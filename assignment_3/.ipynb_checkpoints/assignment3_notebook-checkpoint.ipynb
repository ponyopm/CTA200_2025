{
 "cells": [
  {
   "cell_type": "markdown",
   "id": "d5865a46-f5ab-40a1-ab5d-d998e9ae9ac3",
   "metadata": {},
   "source": [
    "### Question 1:\n",
    "\n",
    "For each point in the complex plane $c = x + iy$, with $-2 < x < 2$ and $-2 < y < 2$, set $z_0 = 0$ and iterate the equation $z_{i + 1} = z_i^2 + c$. \n",
    "Note what happens to the $z_i$'s: some points will remain bounded in absolute value $|z|^2 = \\Re(z)^2 + \\Im(z)^2$, while others will run off to infinity. \n",
    "Make an image  in which your points $c$ that diverge are given one color and those that stay bounded are given another.\n",
    "Make a second image where the points are coloured by a colourscale that indicates the iteration number at which the given point diverged.\n",
    "\n",
    "For this question, put the code that does the iteration in a function and place this function in a separate .py file which you import in your .ipynb.\n",
    "Perform the plots in the notebook."
   ]
  },
  {
   "cell_type": "code",
   "execution_count": null,
   "id": "2aa79456-b38e-4f47-a087-8e3991bff17f",
   "metadata": {},
   "outputs": [],
   "source": [
    "import numpy as np\n",
    "import matplotlib.pyplot as plt\n",
    "import matplotlib.patches as mpatches\n",
    "from iter_function import iter_z"
   ]
  },
  {
   "cell_type": "code",
   "execution_count": null,
   "id": "c7add4c7-3985-47fc-b411-dfde6a30866d",
   "metadata": {},
   "outputs": [],
   "source": [
    "x = np.linspace(-2, 2, 500)\n",
    "y = np.linspace(-2, 2, 500)\n",
    "\n",
    "X, Y = np.meshgrid(x, y)\n",
    "C = X + 1j*Y"
   ]
  },
  {
   "cell_type": "code",
   "execution_count": null,
   "id": "736e2d55-5b47-47e3-8a37-6fba6db4938d",
   "metadata": {},
   "outputs": [],
   "source": [
    "vec_iter_z = np.vectorize(iter_z)\n",
    "escape_times = vec_iter_z(C)\n",
    "\n",
    "fig, axs = plt.subplots(1, 2, figsize=(14, 6))\n",
    "\n",
    "binary_mask = (escape_times < 100).astype(int)\n",
    "im1 = axs[0].imshow(binary_mask, extent=(-2, 2, -2, 2), cmap='gist_stern_r')\n",
    "axs[0].set_title('Divergence (Binary)', fontsize=14)\n",
    "axs[0].set_xlabel('Re')\n",
    "axs[0].set_ylabel('Im')\n",
    "bounded_patch = mpatches.Patch(color=plt.cm.gist_stern_r(0.0), label='Bounded (0)')\n",
    "diverged_patch = mpatches.Patch(color=plt.cm.gist_stern_r(1.0), label='Diverged (1)')\n",
    "axs[0].legend(handles=[bounded_patch, diverged_patch], loc='upper right')\n",
    "\n",
    "im2 = axs[1].imshow(escape_times, extent=(-2, 2, -2, 2), cmap='gist_stern')\n",
    "cbar = fig.colorbar(im2, ax=axs[1], label='Iteration')\n",
    "axs[1].set_title('Divergence Time Coloring', fontsize=14)\n",
    "axs[1].set_xlabel('Re')\n",
    "axs[1].set_ylabel('Im')\n",
    "plt.tight_layout()\n",
    "plt.show()\n"
   ]
  },
  {
   "cell_type": "markdown",
   "id": "056f52e4-9794-40ad-9995-c6f68317c2ae",
   "metadata": {},
   "source": [
    "### Question 2:\n",
    "\n",
    "One of the earliest demonstrations that deterministic physical systems could exhibit unpredictable behavior was given by Edward Lornez, a meteorologist. The original paper is https://journals.ametsoc.org/view/journals/atsc/20/2/1520-0469_1963_020_0130_dnf_2_0_co_2.xml?tab_body=pdf, which is worth downloading and looking over.\n",
    "\n",
    "Lorenz was interested in modeling the behavior of Earth's atmosphere, i.e., a thin atmosphere (thin relative to the radius of Earth) heated from below (the air is heated by infrared radiation from the ground, or by condensing water vapor in thunder clouds, rather than by sunlight). Lorenz applies a Fourier transform to the basic equations, and truncates the number of Fourier modes, keeping only three, with amplitudes denoted by $W\\equiv(X, Y, Z)$.\n",
    "\n",
    "The equations (Lorenz' equations 25, 26, and 27) are\n",
    "\n",
    "\\begin{eqnarray}\n",
    "\\dot X &=& -\\sigma(X-Y)\\\\\n",
    "\\dot Y &=& rX -Y - XZ\\\\\n",
    "\\dot Z &=& -bZ + XY\n",
    "\\end{eqnarray}\n",
    "\n",
    "The three dimensionless parameters are $\\sigma$, the Prandtl number (the ratio of the kinematic viscosity to the thermal diffusivity), the Rayleigh number $r$ (which depends on the vertical temperature difference between the top and bottom of the atmosphere), and b, which is a dimensionless length scale.\n",
    "\n",
    "Note that there are non-linear terms in the second and third equations;\n",
    "these terms result in very complex dynamics.\n",
    "\n",
    "Your task is to:\n",
    "1. code up the equations, using a function definition, with a proper docstrings (inside triple quotes)\n",
    "\n",
    "2. use an ode solver of your choice, i.e., solve_ivp, or ode, to integrate the equations for t=60 (in dimensionless time units). Use Lorenz' initial conditions $W_0=[0., 1., 0.]$ and his parameter values [$\\sigma, r, b$] = [10., 28, 8./3.].\n",
    "\n",
    "3. Reproduce Lorenz' Figure 1. Label both axes! Note that Lorenz uses $N=t/\\Delta t$ to label his plots (here $\\Delta t=0.01$).\n",
    "\n",
    "4. Reproduce Lorenz' Figure 2. You will likely have to ask for output at very closely spaced time intervals, e.g., if you use solve_ivp, you will need something like t = np.linspace(14, 19, 1000) followed by W = sol.sol(t). Again, label both axes.\n",
    "\n",
    "5. Now find the solution using the same values of $(\\sigma, r, b)$, but this time with initial conditions very slightly different than $W_0$, say $W'_0 = W_0+[0., 1.e-8, 0] = [0., 1.00000001, 0.]$; note that adding the two lists (as indicated here) will not work, so you should google to find out how to add two lists element by element. Calculate the distance between $W'$ and $W$ as a function of time, and plot the result on a semilog plot (linear time, log distance). A straight line on such a plot, which is what Lorenz found, indicates exponential growth. Thus a small error in the initial condition will grow rapidly, meaning that predictions of future behavior will not be accurate.\n",
    "\n",
    "\n",
    "For this question you may put all of your code in the jupyter notebook or place some of it in a separate .py file as you see fit. The only requirement is that you make sure it runs correctly in the correct order (ie restart your kernel and run each cell in order to check it works correctly before submitting).\n"
   ]
  },
  {
   "cell_type": "code",
   "execution_count": null,
   "id": "9be946c6-401d-434b-8025-1e24d6fca7b2",
   "metadata": {},
   "outputs": [],
   "source": [
    "from scipy.integrate import solve_ivp\n",
    "\n",
    "const = {'sigma':10.,\n",
    "       'r':28,\n",
    "       'b':8./3.}\n",
    "\n",
    "W0 = np.array([0.,1.,0.])\n",
    "\n",
    "def dx(X, Y, Z):\n",
    "    return -const['sigma'] * (X - Y)\n",
    "\n",
    "def dy(X, Y, Z):\n",
    "    return const['r'] * X - Y - X * Z\n",
    "\n",
    "def dz(X, Y, Z):\n",
    "    return -const['b'] * Z + X * Y\n",
    "\n",
    "def odes(t, W):\n",
    "    \"\"\"\n",
    "    Computes the derivatives of the Lorenz system at a given time t and state W.\n",
    "\n",
    "    Parameters\n",
    "    ----------\n",
    "    t : float\n",
    "        Current time (not used explicitly as the system is autonomous, but required by ODE solvers).\n",
    "    W : list or array-like of float\n",
    "        The current state of the system, [X, Y, Z].\n",
    "\n",
    "    Returns\n",
    "    -------\n",
    "    list of float\n",
    "        The derivatives [dX/dt, dY/dt, dZ/dt] at time t.\n",
    "    \"\"\"\n",
    "    X, Y, Z = W\n",
    "    return [dx(X, Y, Z), dy(X, Y, Z), dz(X, Y, Z)]\n"
   ]
  },
  {
   "cell_type": "code",
   "execution_count": null,
   "id": "cb5b2e7f-a51c-4791-93d3-7c57dcc657bb",
   "metadata": {},
   "outputs": [],
   "source": [
    "sol = solve_ivp(odes, (0, 60), W0)"
   ]
  },
  {
   "cell_type": "code",
   "execution_count": null,
   "id": "1bae7be2-1859-4f0b-ae12-b9f1026b894c",
   "metadata": {},
   "outputs": [],
   "source": [
    "fig, axs = plt.subplots(3, 1, figsize=(10, 8))\n",
    "\n",
    "mask1 = sol.t * 100 <= 1000\n",
    "axs[0].plot(sol.t[mask1] * 100, sol.y[1][mask1], color='black', linewidth=1.2)\n",
    "axs[0].plot(sol.t[mask1] * 100, sol.t[mask1] * 0, color='black', linewidth=1.2)\n",
    "axs[0].set_ylabel(\"Y\", fontsize=12)\n",
    "\n",
    "mask2 = (sol.t * 100 >= 1000) & (sol.t * 100 <= 2000)\n",
    "axs[1].plot(sol.t[mask2] * 100, sol.y[1][mask2], color='black', linewidth=1.2)\n",
    "axs[1].plot(sol.t[mask2] * 100, sol.t[mask2] * 0, color='black', linewidth=1.2)\n",
    "axs[1].set_ylabel(\"Y\", fontsize=12)\n",
    "\n",
    "mask3 = (sol.t * 100 >= 2000) & (sol.t * 100 <= 3000)\n",
    "axs[2].plot(sol.t[mask3] * 100, sol.y[1][mask3], color='black', linewidth=1.2)\n",
    "axs[2].plot(sol.t[mask3] * 100, sol.t[mask3] * 0, color='black', linewidth=1.2)\n",
    "axs[2].set_ylabel(\"Y\", fontsize=12)\n",
    "axs[2].set_xlabel(\"Iteration\", fontsize=14)\n",
    "\n",
    "axs[0].set_xlim([0, 1000])\n",
    "axs[1].set_xlim([1000, 2000])\n",
    "axs[2].set_xlim([2000, 3000])\n",
    "\n",
    "axs[0].set_xticks(np.linspace(0, 1000, 6))\n",
    "axs[1].set_xticks(np.linspace(1000, 2000, 6))\n",
    "axs[2].set_xticks(np.linspace(2000, 3000, 6))\n",
    "\n",
    "plt.tight_layout()\n",
    "plt.show()\n",
    "\n"
   ]
  },
  {
   "cell_type": "code",
   "execution_count": null,
   "id": "185343e4-2592-4989-947c-27530719e8a9",
   "metadata": {},
   "outputs": [],
   "source": [
    "t_span = (0, 60)\n",
    "t_eval = np.linspace(14, 19, 1000)\n",
    "\n",
    "sol2 = solve_ivp(odes, t_span, W0, t_eval=t_eval)"
   ]
  },
  {
   "cell_type": "code",
   "execution_count": null,
   "id": "3b28b90d-3aea-43bc-8908-7d173279135a",
   "metadata": {},
   "outputs": [],
   "source": [
    "fig, axs = plt.subplots(1, 2, figsize=(12, 5))\n",
    "\n",
    "axs[0].plot(sol2.y[1], sol2.y[2], color='black', linewidth=1.2)\n",
    "axs[0].set_xlabel(\"Y\", fontsize=14)\n",
    "axs[0].set_ylabel(\"Z\", fontsize=14)\n",
    "axs[0].set_title(\"Phase Space Plot:\\nY vs Z\", fontsize=14)\n",
    "\n",
    "axs[1].plot(sol2.y[1], sol2.y[0], color='black', linewidth=1.2)\n",
    "axs[1].invert_yaxis()\n",
    "axs[1].set_xlabel(\"Y\", fontsize=14)\n",
    "axs[1].set_ylabel(\"X\", fontsize=14)\n",
    "axs[1].set_title(\"Phase Space Plot:\\nY vs X (Y-axis Flipped)\", fontsize=14)\n",
    "\n",
    "plt.tight_layout()\n",
    "plt.show()"
   ]
  },
  {
   "cell_type": "code",
   "execution_count": null,
   "id": "e6fc36de-6266-4f9f-9edd-7c96a26d9163",
   "metadata": {},
   "outputs": [],
   "source": [
    "W0_del = np.array([0,1e-8,0])\n",
    "W2 = W0 + W0_del\n",
    "\n",
    "sol_3 = solve_ivp(odes, (0, 60), W0)\n",
    "sol_4 = solve_ivp(odes, (0, 60), W2)\n",
    "\n",
    "diff = np.linalg.norm((sol_3.y - sol_4.y), axis=0)"
   ]
  },
  {
   "cell_type": "code",
   "execution_count": null,
   "id": "48cd203f-6e9d-40cc-8c75-4fd5864b1a33",
   "metadata": {},
   "outputs": [],
   "source": [
    "plt.figure(figsize=(10, 6))\n",
    "plt.plot(sol_4.t, diff, color='black', linewidth=1.5)\n",
    "plt.yscale('log')\n",
    "plt.xlabel('Time (t)', fontsize=14)\n",
    "plt.ylabel(r'Distance $\\|W - W^\\prime\\|$ (log scale)', fontsize=14)\n",
    "plt.title('Exponential Growth of Initial Condition Perturbation', fontsize=16)\n",
    "plt.grid(True, which='both', linestyle='--', linewidth=0.5)\n",
    "plt.tight_layout()\n",
    "plt.show()\n"
   ]
  },
  {
   "cell_type": "code",
   "execution_count": null,
   "id": "f11ed563-0799-48c2-8edb-1655f7cad49a",
   "metadata": {},
   "outputs": [],
   "source": []
  }
 ],
 "metadata": {
  "kernelspec": {
   "display_name": "Python 3 (ipykernel)",
   "language": "python",
   "name": "python3"
  },
  "language_info": {
   "codemirror_mode": {
    "name": "ipython",
    "version": 3
   },
   "file_extension": ".py",
   "mimetype": "text/x-python",
   "name": "python",
   "nbconvert_exporter": "python",
   "pygments_lexer": "ipython3",
   "version": "3.12.4"
  }
 },
 "nbformat": 4,
 "nbformat_minor": 5
}
