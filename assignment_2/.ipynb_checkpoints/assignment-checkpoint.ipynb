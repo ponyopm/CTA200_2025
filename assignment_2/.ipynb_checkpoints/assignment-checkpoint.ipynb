{
 "cells": [
  {
   "cell_type": "code",
   "execution_count": 3,
   "id": "6c3e49d9-5350-4dd2-a0a9-6e20cd93d058",
   "metadata": {},
   "outputs": [],
   "source": [
    "# Part 1\n",
    "\n",
    "def f(x):\n",
    "    \"\"\"\n",
    "    Compute the value of the polynomial x³ - x² - 1.\n",
    "\n",
    "    Parameters\n",
    "    ----------\n",
    "    x : float or array_like\n",
    "        Input value(s) at which to evaluate the polynomial.\n",
    "\n",
    "    Returns\n",
    "    -------\n",
    "    float or ndarray\n",
    "        The value of the polynomial at `x`.\n",
    "    \"\"\"\n",
    "    return x**3 - x**2 - 1\n",
    "\n",
    "\n",
    "def df(x):\n",
    "    \"\"\"\n",
    "    Compute the derivative of the polynomial x³ - x² - 1.\n",
    "\n",
    "    Parameters\n",
    "    ----------\n",
    "    x : float or array_like\n",
    "        Input value(s) at which to evaluate the derivative.\n",
    "\n",
    "    Returns\n",
    "    -------\n",
    "    float or ndarray\n",
    "        The value of the derivative at `x`.\n",
    "    \"\"\"\n",
    "    return 3*x**2 - 2*x\n"
   ]
  },
  {
   "cell_type": "code",
   "execution_count": 5,
   "id": "5b19dfb4-89d6-4b7b-b166-00362a776648",
   "metadata": {},
   "outputs": [],
   "source": [
    "# Part 2:\n",
    "\n",
    "def newton(f, df, x0, epsilon=1e-6, max_iter=30):\n",
    "    \"\"\"\n",
    "    Find a root of a function using Newton's method.\n",
    "\n",
    "    Parameters\n",
    "    ----------\n",
    "    f : callable\n",
    "        The function whose root is to be found.\n",
    "    df : callable\n",
    "        The derivative of `f`.\n",
    "    x0 : float\n",
    "        Initial guess for the root.\n",
    "    epsilon : float, optional\n",
    "        Tolerance for convergence. The algorithm stops when `abs(f(x)) < epsilon`.\n",
    "        Default is 1e-6.\n",
    "    max_iter : int, optional\n",
    "        Maximum number of iterations allowed. Default is 30.\n",
    "\n",
    "    Returns\n",
    "    -------\n",
    "    float or None\n",
    "        The estimated root if convergence is successful; otherwise, `None`.\n",
    "    \n",
    "    Notes\n",
    "    -----\n",
    "    This implementation prints a message indicating success or failure.\n",
    "    \"\"\"\n",
    "    iter = 0\n",
    "    x = x0\n",
    "    while iter < max_iter:\n",
    "        if abs(f(x)) < epsilon:\n",
    "            print(f\"Found root in {iter} iterations.\")\n",
    "            return x\n",
    "        else:\n",
    "            x = x - (f(x)/df(x))\n",
    "            iter += 1\n",
    "    print(\"Iteration failed\")\n",
    "    return None"
   ]
  },
  {
   "cell_type": "code",
   "execution_count": 28,
   "id": "2e588bb7-0735-46a2-b24c-d35711b2d046",
   "metadata": {},
   "outputs": [
    {
     "name": "stdout",
     "output_type": "stream",
     "text": [
      "Found root in 9 iterations.\n",
      "Found root in 9 iterations.\n",
      "Found root in 20 iterations.\n",
      "Found root in 21 iterations.\n"
     ]
    },
    {
     "data": {
      "text/plain": [
       "1.4655712318767704"
      ]
     },
     "execution_count": 28,
     "metadata": {},
     "output_type": "execute_result"
    }
   ],
   "source": [
    "# Part 3:\n",
    "\n",
    "newton(f, df, 10, epsilon=1e-6, max_iter=30)\n",
    "# Changing to epsilon=1e-8:\n",
    "newton(f, df, 10, epsilon=1e-8, max_iter=30)\n",
    "\n",
    "newton(f, df, 0.005, epsilon=1e-6, max_iter=30)\n",
    "# Changing to epsilon=1e-8:\n",
    "newton(f, df, 0.005, epsilon=1e-8, max_iter=30)"
   ]
  },
  {
   "cell_type": "markdown",
   "id": "a25ac018-afae-4ffe-ad88-0e9d39ff094c",
   "metadata": {},
   "source": [
    "Changing epsilon to 1e-8 doesn't drastically change how many iterations it takes. When x0 = 10, the number of iterations is the same. In the case of x0 = 0.005, it takes one more iteration."
   ]
  },
  {
   "cell_type": "code",
   "execution_count": null,
   "id": "bbbc8f1c-5d1e-4f37-8ddf-aac08787e0e9",
   "metadata": {},
   "outputs": [],
   "source": []
  }
 ],
 "metadata": {
  "kernelspec": {
   "display_name": "Python 3 (ipykernel)",
   "language": "python",
   "name": "python3"
  },
  "language_info": {
   "codemirror_mode": {
    "name": "ipython",
    "version": 3
   },
   "file_extension": ".py",
   "mimetype": "text/x-python",
   "name": "python",
   "nbconvert_exporter": "python",
   "pygments_lexer": "ipython3",
   "version": "3.12.4"
  }
 },
 "nbformat": 4,
 "nbformat_minor": 5
}
