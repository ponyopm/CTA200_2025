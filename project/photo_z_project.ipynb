{
 "cells": [
  {
   "cell_type": "code",
   "execution_count": 5,
   "id": "f68c4327-3323-42ea-bf3a-4bbe93158396",
   "metadata": {},
   "outputs": [],
   "source": [
    "import numpy as np\n",
    "import flexcode\n",
    "from flexcode.regression_models import XGBoost\n",
    "import pandas as pd\n",
    "from sklearn.model_selection import train_test_split\n",
    "from sklearn.preprocessing import StandardScaler\n",
    "from flexcode.loss_functions import cde_loss\n",
    "import matplotlib.pyplot as plt\n",
    "import scipy\n",
    "from sklearn import metrics   #Additional scklearn functions\n",
    "from sklearn.model_selection import GridSearchCV\n",
    "\n",
    "train = np.load('trainz_train.npz', allow_pickle=True)\n",
    "test = np.load('trainz_test.npz', allow_pickle=True)"
   ]
  },
  {
   "cell_type": "code",
   "execution_count": 58,
   "id": "33d37123-dec7-4900-a1d1-81ce8d87d209",
   "metadata": {},
   "outputs": [],
   "source": [
    "# Part 1: Preparing the Data\n",
    "train_data = pd.DataFrame(train['train_cat'])\n",
    "test_data = pd.DataFrame(test['test_cat'])"
   ]
  },
  {
   "cell_type": "code",
   "execution_count": 50,
   "id": "0ee679d6-6548-438b-9d5c-611433a881fd",
   "metadata": {},
   "outputs": [],
   "source": [
    "df_train = train_data.assign(\n",
    "    ug = train_data.U - train_data.G,\n",
    "    gr = train_data.G - train_data.R,\n",
    "    ri = train_data.R - train_data.I,\n",
    "    iz = train_data.I - train_data.Z,\n",
    "    zy = train_data.Z - train_data.Y,\n",
    "    ug_err = np.sqrt(train_data['UERR'] ** 2 + train_data['GERR'] ** 2),\n",
    "    gr_err = np.sqrt(train_data['GERR'] ** 2 + train_data['RERR'] ** 2),\n",
    "    ri_err = np.sqrt(train_data['RERR'] ** 2 + train_data['IERR'] ** 2),\n",
    "    iz_err = np.sqrt(train_data['IERR'] ** 2 + train_data['ZERR'] ** 2),\n",
    "    zy_err = np.sqrt(train_data['ZERR'] ** 2 + train_data['YERR'] ** 2)\n",
    ")\n",
    "\n",
    "df_test = test_data.assign(\n",
    "    ug = test_data.U - test_data.G,\n",
    "    gr = test_data.G - test_data.R,\n",
    "    ri = test_data.R - test_data.I,\n",
    "    iz = test_data.I - test_data.Z,\n",
    "    zy = test_data.Z - test_data.Y,\n",
    "    ug_err = np.sqrt(test_data['UERR'] ** 2 + test_data['GERR'] ** 2),\n",
    "    gr_err = np.sqrt(test_data['GERR'] ** 2 + test_data['RERR'] ** 2),\n",
    "    ri_err = np.sqrt(test_data['RERR'] ** 2 + test_data['IERR'] ** 2),\n",
    "    iz_err = np.sqrt(test_data['IERR'] ** 2 + test_data['ZERR'] ** 2),\n",
    "    zy_err = np.sqrt(test_data['ZERR'] ** 2 + test_data['YERR'] ** 2)\n",
    ")"
   ]
  },
  {
   "cell_type": "code",
   "execution_count": 52,
   "id": "68b434d7-51ef-4bb6-a415-589867815bd4",
   "metadata": {},
   "outputs": [],
   "source": [
    "train_features = df_train[ ['ug', 'gr','ri','iz', 'zy', 'ug_err', 'gr_err', 'ri_err', 'iz_err', 'zy_err', 'I'] ] #training features (mag ratios and errors, and I)\n",
    "test_features = df_test[ ['ug', 'gr','ri','iz', 'zy', 'ug_err', 'gr_err', 'ri_err', 'iz_err', 'zy_err', 'I'] ] #training features (mag ratios and errors, and I)\n",
    "\n",
    "\n",
    "train_label = df_train['SPECZ'].to_numpy()\n",
    "test_label = df_test['SPECZ'].to_numpy()"
   ]
  },
  {
   "cell_type": "code",
   "execution_count": 15,
   "id": "577f0625-a3a3-4dee-b1c3-a9e187b63857",
   "metadata": {},
   "outputs": [
    {
     "data": {
      "text/html": [
       "<div>\n",
       "<style scoped>\n",
       "    .dataframe tbody tr th:only-of-type {\n",
       "        vertical-align: middle;\n",
       "    }\n",
       "\n",
       "    .dataframe tbody tr th {\n",
       "        vertical-align: top;\n",
       "    }\n",
       "\n",
       "    .dataframe thead th {\n",
       "        text-align: right;\n",
       "    }\n",
       "</style>\n",
       "<table border=\"1\" class=\"dataframe\">\n",
       "  <thead>\n",
       "    <tr style=\"text-align: right;\">\n",
       "      <th></th>\n",
       "      <th>ug</th>\n",
       "      <th>gr</th>\n",
       "      <th>ri</th>\n",
       "      <th>iz</th>\n",
       "      <th>zy</th>\n",
       "      <th>ug_err</th>\n",
       "      <th>gr_err</th>\n",
       "      <th>ri_err</th>\n",
       "      <th>iz_err</th>\n",
       "      <th>zy_err</th>\n",
       "      <th>I</th>\n",
       "    </tr>\n",
       "  </thead>\n",
       "  <tbody>\n",
       "    <tr>\n",
       "      <th>0</th>\n",
       "      <td>0.923601</td>\n",
       "      <td>0.464600</td>\n",
       "      <td>0.233200</td>\n",
       "      <td>0.148600</td>\n",
       "      <td>0.188100</td>\n",
       "      <td>0.007071</td>\n",
       "      <td>0.007071</td>\n",
       "      <td>0.007071</td>\n",
       "      <td>0.007071</td>\n",
       "      <td>0.007071</td>\n",
       "      <td>16.209900</td>\n",
       "    </tr>\n",
       "    <tr>\n",
       "      <th>1</th>\n",
       "      <td>1.328299</td>\n",
       "      <td>0.765900</td>\n",
       "      <td>0.450102</td>\n",
       "      <td>0.273699</td>\n",
       "      <td>0.302000</td>\n",
       "      <td>0.007142</td>\n",
       "      <td>0.007071</td>\n",
       "      <td>0.007071</td>\n",
       "      <td>0.007071</td>\n",
       "      <td>0.007071</td>\n",
       "      <td>16.528799</td>\n",
       "    </tr>\n",
       "    <tr>\n",
       "      <th>2</th>\n",
       "      <td>0.627401</td>\n",
       "      <td>0.181999</td>\n",
       "      <td>0.200300</td>\n",
       "      <td>-0.026899</td>\n",
       "      <td>0.127199</td>\n",
       "      <td>0.008500</td>\n",
       "      <td>0.007142</td>\n",
       "      <td>0.007142</td>\n",
       "      <td>0.007284</td>\n",
       "      <td>0.008246</td>\n",
       "      <td>20.628300</td>\n",
       "    </tr>\n",
       "    <tr>\n",
       "      <th>3</th>\n",
       "      <td>0.993200</td>\n",
       "      <td>0.315498</td>\n",
       "      <td>0.181900</td>\n",
       "      <td>-0.031898</td>\n",
       "      <td>0.102200</td>\n",
       "      <td>0.007433</td>\n",
       "      <td>0.007071</td>\n",
       "      <td>0.007071</td>\n",
       "      <td>0.007071</td>\n",
       "      <td>0.007142</td>\n",
       "      <td>19.056801</td>\n",
       "    </tr>\n",
       "    <tr>\n",
       "      <th>4</th>\n",
       "      <td>0.550201</td>\n",
       "      <td>0.121500</td>\n",
       "      <td>0.129000</td>\n",
       "      <td>-0.042801</td>\n",
       "      <td>0.029600</td>\n",
       "      <td>0.007951</td>\n",
       "      <td>0.007142</td>\n",
       "      <td>0.007142</td>\n",
       "      <td>0.007284</td>\n",
       "      <td>0.008169</td>\n",
       "      <td>20.437099</td>\n",
       "    </tr>\n",
       "  </tbody>\n",
       "</table>\n",
       "</div>"
      ],
      "text/plain": [
       "         ug        gr        ri        iz        zy    ug_err    gr_err  \\\n",
       "0  0.923601  0.464600  0.233200  0.148600  0.188100  0.007071  0.007071   \n",
       "1  1.328299  0.765900  0.450102  0.273699  0.302000  0.007142  0.007071   \n",
       "2  0.627401  0.181999  0.200300 -0.026899  0.127199  0.008500  0.007142   \n",
       "3  0.993200  0.315498  0.181900 -0.031898  0.102200  0.007433  0.007071   \n",
       "4  0.550201  0.121500  0.129000 -0.042801  0.029600  0.007951  0.007142   \n",
       "\n",
       "     ri_err    iz_err    zy_err          I  \n",
       "0  0.007071  0.007071  0.007071  16.209900  \n",
       "1  0.007071  0.007071  0.007071  16.528799  \n",
       "2  0.007142  0.007284  0.008246  20.628300  \n",
       "3  0.007071  0.007071  0.007142  19.056801  \n",
       "4  0.007142  0.007284  0.008169  20.437099  "
      ]
     },
     "execution_count": 15,
     "metadata": {},
     "output_type": "execute_result"
    }
   ],
   "source": [
    "train_features.head()"
   ]
  },
  {
   "cell_type": "code",
   "execution_count": 60,
   "id": "e52695bb-52c0-42f7-b298-536405dd10a8",
   "metadata": {},
   "outputs": [],
   "source": [
    "# Part 2: Generating PDFs\n",
    "\n",
    "# Standardize inputs\n",
    "scaler = StandardScaler()\n",
    "train_features_scaled = scaler.fit_transform(train_features)\n",
    "test_features_scaled = scaler.fit_transform(test_features)\n",
    "\n",
    "# Split the data\n",
    "X_train, X_val, y_train, y_val = train_test_split(train_features_scaled, train_label, train_size=0.8, random_state=1)"
   ]
  },
  {
   "cell_type": "code",
   "execution_count": 1,
   "id": "53c5468c-a748-4c1f-be12-af364a207d0b",
   "metadata": {},
   "outputs": [
    {
     "ename": "NameError",
     "evalue": "name 'flexcode' is not defined",
     "output_type": "error",
     "traceback": [
      "\u001b[0;31m---------------------------------------------------------------------------\u001b[0m",
      "\u001b[0;31mNameError\u001b[0m                                 Traceback (most recent call last)",
      "Cell \u001b[0;32mIn[1], line 32\u001b[0m\n\u001b[1;32m     29\u001b[0m \u001b[38;5;28;01mfor\u001b[39;00m max_basis \u001b[38;5;129;01min\u001b[39;00m [\u001b[38;5;241m31\u001b[39m, \u001b[38;5;241m41\u001b[39m, \u001b[38;5;241m51\u001b[39m]:\n\u001b[1;32m     30\u001b[0m     params \u001b[38;5;241m=\u001b[39m \u001b[38;5;28mdict\u001b[39m(\u001b[38;5;28mzip\u001b[39m(param_names, combo))\n\u001b[0;32m---> 32\u001b[0m     model \u001b[38;5;241m=\u001b[39m flexcode\u001b[38;5;241m.\u001b[39mFlexCodeModel(\n\u001b[1;32m     33\u001b[0m         XGBoost,\n\u001b[1;32m     34\u001b[0m         max_basis\u001b[38;5;241m=\u001b[39mmax_basis,\n\u001b[1;32m     35\u001b[0m         basis_system\u001b[38;5;241m=\u001b[39mbasis,\n\u001b[1;32m     36\u001b[0m         regression_params\u001b[38;5;241m=\u001b[39mparams,\n\u001b[1;32m     37\u001b[0m     )\n\u001b[1;32m     39\u001b[0m     model\u001b[38;5;241m.\u001b[39mfit(X_train, y_train)\n\u001b[1;32m     40\u001b[0m     model\u001b[38;5;241m.\u001b[39mtune(X_val, y_val)\n",
      "\u001b[0;31mNameError\u001b[0m: name 'flexcode' is not defined"
     ]
    }
   ],
   "source": [
    "# DONT RUN CELL, results are saved in the next cell\n",
    "from itertools import product\n",
    "from sklearn.metrics import mean_squared_error\n",
    "import time\n",
    "\n",
    "param_grid = {\n",
    "    \"n_estimators\": [100, 500, 1000],\n",
    "    \"max_depth\": [5, 7],\n",
    "    \"min_child_weight\": [1, 2],\n",
    "    \"learning_rate\": [0.01, 0.05, 0.1],\n",
    "    \"subsample\": [0.8],\n",
    "    \"colsample_bytree\": [0.8],\n",
    "    \"gamma\": [0, 0.3],\n",
    "    \"verbosity\": [0],\n",
    "    \"objective\": ['reg:squarederror']\n",
    "}\n",
    "\n",
    "# Create all combinations\n",
    "param_names = list(param_grid.keys())\n",
    "combinations = list(product(*param_grid.values()))\n",
    "\n",
    "best_score = -1\n",
    "best_params = None\n",
    "best_basis = 'none'\n",
    "best_max_basis = 0\n",
    "\n",
    "for combo in combinations:\n",
    "    for basis in [\"cosine\", \"Fourier\", \"db4\"]:\n",
    "        for max_basis in [31, 41, 51]:\n",
    "            params = dict(zip(param_names, combo))\n",
    "        \n",
    "            model = flexcode.FlexCodeModel(\n",
    "                XGBoost,\n",
    "                max_basis=max_basis,\n",
    "                basis_system=basis,\n",
    "                regression_params=params,\n",
    "            )\n",
    "        \n",
    "            model.fit(X_train, y_train)\n",
    "            model.tune(X_val, y_val)\n",
    "            temp_cdes, temp_z_grid = model.predict(X_val, n_grid=200)\n",
    "            score = -cde_loss(temp_cdes, temp_z_grid, y_val)\n",
    "            \n",
    "            print(f\"Params: {params}, Score: {score}\")\n",
    "        \n",
    "            if score > best_score:\n",
    "                best_score = score\n",
    "                best_params = params\n",
    "                best_basis = basis\n",
    "                best_max_basis = max_basis\n",
    "\n",
    "print(f\"\\nBest score: {best_score}\")\n",
    "print(f\"Best parameters: {best_params}\")\n",
    "print(best_basis)\n",
    "print(best_max_basis)"
   ]
  },
  {
   "cell_type": "code",
   "execution_count": 19,
   "id": "81c42201-6cbc-4b81-b682-f992e9fe1762",
   "metadata": {},
   "outputs": [],
   "source": [
    "# Results from the gridsearch\n",
    "best_max_basis = 51\n",
    "best_basis = 'cosine'\n",
    "best_params = {\n",
    "        'n_estimators': 1000, \n",
    "        'max_depth': 7, \n",
    "        'min_child_weight': 2, \n",
    "        'learning_rate': 0.05, \n",
    "        'subsample': 0.8, \n",
    "        'colsample_bytree': 0.8, \n",
    "        'gamma': 0, \n",
    "        'verbosity': 0, \n",
    "        'objective': 'reg:squarederror', \n",
    "        'silent': 1\n",
    "    }\n",
    "\n",
    "model = flexcode.FlexCodeModel(\n",
    "    XGBoost,\n",
    "    max_basis=best_max_basis,\n",
    "    basis_system=best_basis,\n",
    "    regression_params=best_params\n",
    ")\n",
    "\n",
    "# Train the model\n",
    "model.fit(X_train, y_train)\n",
    "model.tune(X_val, y_val)"
   ]
  },
  {
   "cell_type": "code",
   "execution_count": 24,
   "id": "26fa944a-5ce6-46d8-986f-d5bbf898f9e0",
   "metadata": {},
   "outputs": [],
   "source": [
    "# On the LSST DC1 Data\n",
    "cdes, z_grid = model.predict(test_features_scaled, n_grid=200)"
   ]
  },
  {
   "cell_type": "code",
   "execution_count": 32,
   "id": "4c768261-71b9-4ad9-bd08-4bf73495b15d",
   "metadata": {},
   "outputs": [
    {
     "name": "stdout",
     "output_type": "stream",
     "text": [
      "The cde_loss is: -8.926446735961022\n"
     ]
    }
   ],
   "source": [
    "# Test cde loss\n",
    "from flexcode.loss_functions import cde_loss\n",
    "print(f\"The cde_loss is: {cde_loss(cdes, z_grid, test_label)}\")"
   ]
  },
  {
   "cell_type": "code",
   "execution_count": 56,
   "id": "15ced452-b2a9-40c2-acb0-568b150dfaea",
   "metadata": {},
   "outputs": [
    {
     "data": {
      "image/png": "[encoded data removed]",
      "text/plain": [
       "<Figure size 1000x600 with 4 Axes>"
      ]
     },
     "metadata": {},
     "output_type": "display_data"
    }
   ],
   "source": [
    "fig, axes = plt.subplots(2, 2, figsize=(10, 6))  # 2 rows, 2 columns\n",
    "\n",
    "for ii in range(4):\n",
    "    row, col = divmod(ii, 2)\n",
    "    ax = axes[row, col]\n",
    "    ax.plot(z_grid, cdes[ii, :])\n",
    "    ax.axvline(x=test_label[ii], color=\"red\", linestyle=\"--\", label=\"True $z$\")\n",
    "    ax.set_title(f\"Sample {ii + 1}\")\n",
    "    ax.set_xlabel(\"Redshift z\")\n",
    "    ax.set_ylabel(\"p(z)\")\n",
    "    ax.set_yticks([])\n",
    "    ax.legend()\n",
    "\n",
    "plt.tight_layout()\n",
    "plt.savefig('photo_z_pdfs.pdf')\n",
    "plt.show()"
   ]
  },
  {
   "cell_type": "code",
   "execution_count": 62,
   "id": "4357c82f-3d6e-4af7-908b-8a9484d114ec",
   "metadata": {},
   "outputs": [
    {
     "data": {
      "image/png": "[encoded data removed]",
      "text/plain": [
       "<Figure size 1000x600 with 1 Axes>"
      ]
     },
     "metadata": {},
     "output_type": "display_data"
    }
   ],
   "source": [
    "# Part 3: Evaluating the Model\n",
    "\n",
    "# Making the PIT\n",
    "pdf = cdes[0]\n",
    "z = z_grid.flatten()\n",
    "\n",
    "hist = []\n",
    "n_samples = 390990\n",
    "n_bins = 100\n",
    "\n",
    "for i in range(n_samples):\n",
    "    z_range = z[z <= test_label[i]]\n",
    "    cde_range = cdes[i][:len(z_range)]\n",
    "    hist.append(np.trapz(cde_range, z_range))\n",
    "\n",
    "plt.figure(figsize=(10, 6))\n",
    "plt.hist(hist, bins=n_bins, alpha=0.7)\n",
    "\n",
    "# Add horizontal line at expected height assuming uniform distribution\n",
    "plt.axhline(y=n_samples / n_bins, color='black', linestyle='-', label='Expected height')\n",
    "\n",
    "plt.xlabel(\"Integrated CDE up to true redshift\")\n",
    "plt.ylabel(\"Count\")\n",
    "plt.title(\"Probability Integral Transform\")\n",
    "plt.legend()\n",
    "plt.savefig('photo_z_pit.pdf')\n",
    "plt.show()\n",
    "\n",
    "    "
   ]
  },
  {
   "cell_type": "code",
   "execution_count": null,
   "id": "055aee66-f6d9-436c-8059-46589c54b6f0",
   "metadata": {},
   "outputs": [],
   "source": []
  }
 ],
 "metadata": {
  "kernelspec": {
   "display_name": "Python 3 (ipykernel)",
   "language": "python",
   "name": "python3"
  },
  "language_info": {
   "codemirror_mode": {
    "name": "ipython",
    "version": 3
   },
   "file_extension": ".py",
   "mimetype": "text/x-python",
   "name": "python",
   "nbconvert_exporter": "python",
   "pygments_lexer": "ipython3",
   "version": "3.12.4"
  }
 },
 "nbformat": 4,
 "nbformat_minor": 5
}
